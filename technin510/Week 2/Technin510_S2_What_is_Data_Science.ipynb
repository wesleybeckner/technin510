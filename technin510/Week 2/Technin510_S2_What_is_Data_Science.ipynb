{
  "nbformat": 4,
  "nbformat_minor": 0,
  "metadata": {
    "colab": {
      "name": "Technin510_S2_What_is_Data_Science.ipynb",
      "provenance": [],
      "collapsed_sections": [],
      "toc_visible": true,
      "authorship_tag": "ABX9TyN/J7worK4OqTwNZNjEA0ND",
      "include_colab_link": true
    },
    "kernelspec": {
      "name": "python3",
      "display_name": "Python 3"
    },
    "language_info": {
      "name": "python"
    }
  },
  "cells": [
    {
      "cell_type": "markdown",
      "metadata": {
        "id": "view-in-github",
        "colab_type": "text"
      },
      "source": [
        "<a href=\"https://colab.research.google.com/github/wesleybeckner/technin510/blob/main/technin510/Week%202/Technin510_S2_What_is_Data_Science.ipynb\" target=\"_parent\"><img src=\"https://colab.research.google.com/assets/colab-badge.svg\" alt=\"Open In Colab\"/></a>"
      ]
    },
    {
      "cell_type": "markdown",
      "metadata": {
        "id": "sl4y2JiLTzYT"
      },
      "source": [
        "# Technology Innovation 510\n",
        "## Introduction to Data Science Methods: Data Science and Visualization\n",
        "\n",
        "**Instructor**: Wesley Beckner\n",
        "\n",
        "**Contact**: wesleybeckner@gmail.com\n",
        "\n",
        "<br>\n",
        "\n",
        "---\n",
        "\n",
        "<br>\n",
        "\n",
        "🎉 Today, we'll be working from this _digital_ notebook to complete exercises! If you don't have a computer, not to worry. Grab a notepad and pencil to write down your ideas and notes! 🎉\n",
        "\n",
        "<br>\n",
        "\n",
        "---"
      ]
    },
    {
      "cell_type": "markdown",
      "metadata": {
        "id": "rnWtOjUQiqih"
      },
      "source": [
        "# Preparing Notebook for Demos"
      ]
    },
    {
      "cell_type": "markdown",
      "metadata": {
        "id": "5OepOcSli8at"
      },
      "source": [
        "## Importing Packages\n",
        "\n",
        "Once we have our packages installed, we need to import them. We can also import packages that are pre-installed in the Colab environment."
      ]
    },
    {
      "cell_type": "code",
      "metadata": {
        "id": "Hm_Z7duTp_d8"
      },
      "source": [
        "import numpy as np\n",
        "import random\n",
        "import pandas as pd\n",
        "import matplotlib.pyplot as plt\n",
        "from sklearn.linear_model import LinearRegression\n",
        "import seaborn as sns\n",
        "pd.options.display.max_rows = 999\n",
        "pd.set_option('display.max_colwidth', None)\n",
        "sns.set()"
      ],
      "execution_count": 126,
      "outputs": []
    },
    {
      "cell_type": "markdown",
      "metadata": {
        "id": "1obzmHRDjY4j"
      },
      "source": [
        "## Importing Data\n",
        "\n",
        "We also have the ability to import data, and use it elsewhere in the notebook 📝!"
      ]
    },
    {
      "cell_type": "code",
      "metadata": {
        "id": "cKAUwmT6-vJr",
        "colab": {
          "base_uri": "https://localhost:8080/"
        },
        "outputId": "533dc92b-f238-4acc-ebd4-86a8421435f2"
      },
      "source": [
        "df = pd.read_csv(\"https://raw.githubusercontent.com/wesleybeckner/\"\\\n",
        "  \"technology_explorers/main/assets/imdb_movies.csv\")\n",
        "\n",
        "# converting years to numbers for easy conditionals\n",
        "df['year'] = pd.to_numeric(df['year'], errors='coerce')"
      ],
      "execution_count": 96,
      "outputs": [
        {
          "output_type": "stream",
          "name": "stderr",
          "text": [
            "/usr/local/lib/python3.7/dist-packages/IPython/core/interactiveshell.py:2718: DtypeWarning: Columns (3) have mixed types.Specify dtype option on import or set low_memory=False.\n",
            "  interactivity=interactivity, compiler=compiler, result=result)\n"
          ]
        }
      ]
    },
    {
      "cell_type": "markdown",
      "metadata": {
        "id": "Xk0ji8ayXRQd"
      },
      "source": [
        "## 📊 What is Data Science?"
      ]
    },
    {
      "cell_type": "markdown",
      "metadata": {
        "id": "lHZCU3BXo77Q"
      },
      "source": [
        "### The Emergence of Data Science\n",
        "\n",
        "Data Science is a broad field, and depending on who you talk to, it can mean different things. In summary, many independent scientific fields began accumulating large amounts of data. At the UW in particular, these were dominated by the astronomy and oceanography departments. Folks began to realize that they needed a particular set of tools to handle large amounts of data. This culminated in the [eScience studio](https://escience.washington.edu/), which began to service the data needs of many departments on campus.\n",
        "\n",
        "Today, data science not only has to do with large amounts of data, but refers generally to tools that allow us to work with a variety of data types. Because of this, machine learning is a tool within data science. But there are other tools apart from machine learning that make up the data science ecosystem. Some of them are:\n",
        "\n",
        "* data visualization\n",
        "* databases \n",
        "* statistics\n",
        "\n",
        "You could argue for others as well (algorithms, web servers, programming, etc.), but these are the formally accepted areas. "
      ]
    },
    {
      "cell_type": "markdown",
      "metadata": {
        "id": "OCkrbfnuYHiE"
      },
      "source": [
        "#### 💭 7\n",
        "\n",
        "We've talked a lot! Wow! Last topic. D A T A S C I E N C E. What is it? Any idea? Talk to your neighbor, convene together, then let's share. Do this at 2 different levels:\n",
        "\n",
        "How would you explain data science to:\n",
        "1. your grandmother\n",
        "2. a student"
      ]
    },
    {
      "cell_type": "markdown",
      "metadata": {
        "id": "-pCx4S8fowgd"
      },
      "source": [
        "#### 💬 7\n",
        "\n",
        "I'll write these down, let's see if we can all agree on a precise definition"
      ]
    },
    {
      "cell_type": "markdown",
      "metadata": {
        "id": "xXiohvhyPwBa"
      },
      "source": [
        "### Saying Stuff About Data (Statistics)\n",
        "\n",
        "When we're talking about statistics, we're really talking about data story telling. Statistics is at the C O R E of data science, really. Without a basic knowledge of statistics it'll be hard for you to construct your data narratives and have them hold water. \n",
        "\n",
        "Let's start with some simple examples of data story telling, and use these to generate our own thoughts on the matter."
      ]
    },
    {
      "cell_type": "markdown",
      "metadata": {
        "id": "cdtDxSaPQHzO"
      },
      "source": [
        "#### Anscombe's Quartet\n",
        "\n",
        "There's a very famous anomaly in DS caled Anscombe's quartet. Observe the following data\n",
        "\n",
        "<p align=center>\n",
        "<img src=\"https://raw.githubusercontent.com/wesleybeckner/technology_explorers/main/assets/data_science/ds1.png\"></img>\n",
        "\n",
        "We can construct this in python and confirm the summary statistics ourselves"
      ]
    },
    {
      "cell_type": "code",
      "metadata": {
        "colab": {
          "base_uri": "https://localhost:8080/",
          "height": 423
        },
        "id": "0VPpRKIoQu-e",
        "outputId": "14140688-11ea-409b-fb53-0bdc2b5555cd"
      },
      "source": [
        "df = pd.read_excel(\"https://github.com/wesleybeckner/technology_explorers/blob\"\\\n",
        "                   \"/main/assets/data_science/anscombes.xlsx?raw=true\",\n",
        "              header=[0,1])\n",
        "df"
      ],
      "execution_count": 89,
      "outputs": [
        {
          "output_type": "execute_result",
          "data": {
            "text/html": [
              "<div>\n",
              "<style scoped>\n",
              "    .dataframe tbody tr th:only-of-type {\n",
              "        vertical-align: middle;\n",
              "    }\n",
              "\n",
              "    .dataframe tbody tr th {\n",
              "        vertical-align: top;\n",
              "    }\n",
              "\n",
              "    .dataframe thead tr th {\n",
              "        text-align: left;\n",
              "    }\n",
              "</style>\n",
              "<table border=\"1\" class=\"dataframe\">\n",
              "  <thead>\n",
              "    <tr>\n",
              "      <th></th>\n",
              "      <th colspan=\"2\" halign=\"left\">I</th>\n",
              "      <th colspan=\"2\" halign=\"left\">II</th>\n",
              "      <th colspan=\"2\" halign=\"left\">III</th>\n",
              "      <th colspan=\"2\" halign=\"left\">IV</th>\n",
              "    </tr>\n",
              "    <tr>\n",
              "      <th></th>\n",
              "      <th>X</th>\n",
              "      <th>Y</th>\n",
              "      <th>X</th>\n",
              "      <th>Y</th>\n",
              "      <th>X</th>\n",
              "      <th>Y</th>\n",
              "      <th>X</th>\n",
              "      <th>Y</th>\n",
              "    </tr>\n",
              "  </thead>\n",
              "  <tbody>\n",
              "    <tr>\n",
              "      <th>0</th>\n",
              "      <td>10</td>\n",
              "      <td>8.04</td>\n",
              "      <td>10</td>\n",
              "      <td>9.14</td>\n",
              "      <td>10</td>\n",
              "      <td>7.46</td>\n",
              "      <td>8</td>\n",
              "      <td>6.58</td>\n",
              "    </tr>\n",
              "    <tr>\n",
              "      <th>1</th>\n",
              "      <td>8</td>\n",
              "      <td>6.95</td>\n",
              "      <td>8</td>\n",
              "      <td>8.14</td>\n",
              "      <td>8</td>\n",
              "      <td>6.77</td>\n",
              "      <td>8</td>\n",
              "      <td>5.76</td>\n",
              "    </tr>\n",
              "    <tr>\n",
              "      <th>2</th>\n",
              "      <td>13</td>\n",
              "      <td>7.58</td>\n",
              "      <td>13</td>\n",
              "      <td>8.74</td>\n",
              "      <td>13</td>\n",
              "      <td>12.74</td>\n",
              "      <td>8</td>\n",
              "      <td>7.71</td>\n",
              "    </tr>\n",
              "    <tr>\n",
              "      <th>3</th>\n",
              "      <td>9</td>\n",
              "      <td>8.81</td>\n",
              "      <td>9</td>\n",
              "      <td>8.77</td>\n",
              "      <td>9</td>\n",
              "      <td>7.11</td>\n",
              "      <td>8</td>\n",
              "      <td>8.84</td>\n",
              "    </tr>\n",
              "    <tr>\n",
              "      <th>4</th>\n",
              "      <td>11</td>\n",
              "      <td>8.33</td>\n",
              "      <td>11</td>\n",
              "      <td>9.26</td>\n",
              "      <td>11</td>\n",
              "      <td>7.81</td>\n",
              "      <td>8</td>\n",
              "      <td>8.47</td>\n",
              "    </tr>\n",
              "    <tr>\n",
              "      <th>5</th>\n",
              "      <td>14</td>\n",
              "      <td>9.96</td>\n",
              "      <td>14</td>\n",
              "      <td>8.10</td>\n",
              "      <td>14</td>\n",
              "      <td>8.84</td>\n",
              "      <td>8</td>\n",
              "      <td>7.04</td>\n",
              "    </tr>\n",
              "    <tr>\n",
              "      <th>6</th>\n",
              "      <td>6</td>\n",
              "      <td>7.24</td>\n",
              "      <td>6</td>\n",
              "      <td>6.13</td>\n",
              "      <td>6</td>\n",
              "      <td>6.08</td>\n",
              "      <td>8</td>\n",
              "      <td>5.25</td>\n",
              "    </tr>\n",
              "    <tr>\n",
              "      <th>7</th>\n",
              "      <td>4</td>\n",
              "      <td>4.26</td>\n",
              "      <td>4</td>\n",
              "      <td>3.10</td>\n",
              "      <td>4</td>\n",
              "      <td>5.39</td>\n",
              "      <td>19</td>\n",
              "      <td>12.50</td>\n",
              "    </tr>\n",
              "    <tr>\n",
              "      <th>8</th>\n",
              "      <td>12</td>\n",
              "      <td>10.84</td>\n",
              "      <td>12</td>\n",
              "      <td>9.13</td>\n",
              "      <td>12</td>\n",
              "      <td>8.15</td>\n",
              "      <td>8</td>\n",
              "      <td>5.56</td>\n",
              "    </tr>\n",
              "    <tr>\n",
              "      <th>9</th>\n",
              "      <td>7</td>\n",
              "      <td>4.82</td>\n",
              "      <td>7</td>\n",
              "      <td>7.26</td>\n",
              "      <td>7</td>\n",
              "      <td>6.42</td>\n",
              "      <td>8</td>\n",
              "      <td>7.91</td>\n",
              "    </tr>\n",
              "    <tr>\n",
              "      <th>10</th>\n",
              "      <td>5</td>\n",
              "      <td>5.68</td>\n",
              "      <td>5</td>\n",
              "      <td>4.74</td>\n",
              "      <td>5</td>\n",
              "      <td>5.73</td>\n",
              "      <td>8</td>\n",
              "      <td>6.89</td>\n",
              "    </tr>\n",
              "  </tbody>\n",
              "</table>\n",
              "</div>"
            ],
            "text/plain": [
              "     I         II       III         IV       \n",
              "     X      Y   X     Y   X      Y   X      Y\n",
              "0   10   8.04  10  9.14  10   7.46   8   6.58\n",
              "1    8   6.95   8  8.14   8   6.77   8   5.76\n",
              "2   13   7.58  13  8.74  13  12.74   8   7.71\n",
              "3    9   8.81   9  8.77   9   7.11   8   8.84\n",
              "4   11   8.33  11  9.26  11   7.81   8   8.47\n",
              "5   14   9.96  14  8.10  14   8.84   8   7.04\n",
              "6    6   7.24   6  6.13   6   6.08   8   5.25\n",
              "7    4   4.26   4  3.10   4   5.39  19  12.50\n",
              "8   12  10.84  12  9.13  12   8.15   8   5.56\n",
              "9    7   4.82   7  7.26   7   6.42   8   7.91\n",
              "10   5   5.68   5  4.74   5   5.73   8   6.89"
            ]
          },
          "metadata": {},
          "execution_count": 89
        }
      ]
    },
    {
      "cell_type": "markdown",
      "metadata": {
        "id": "OZkzcLcUSziz"
      },
      "source": [
        "We can calculate the mean/variance of X and Y for samples I, II, III, and IV"
      ]
    },
    {
      "cell_type": "code",
      "metadata": {
        "colab": {
          "base_uri": "https://localhost:8080/"
        },
        "id": "2zU2fCOVSr2W",
        "outputId": "1e31fe26-5d8d-4ab0-9706-e7a1dea40435"
      },
      "source": [
        "df.mean()"
      ],
      "execution_count": 90,
      "outputs": [
        {
          "output_type": "execute_result",
          "data": {
            "text/plain": [
              "I    X    9.000000\n",
              "     Y    7.500909\n",
              "II   X    9.000000\n",
              "     Y    7.500909\n",
              "III  X    9.000000\n",
              "     Y    7.500000\n",
              "IV   X    9.000000\n",
              "     Y    7.500909\n",
              "dtype: float64"
            ]
          },
          "metadata": {},
          "execution_count": 90
        }
      ]
    },
    {
      "cell_type": "code",
      "metadata": {
        "colab": {
          "base_uri": "https://localhost:8080/"
        },
        "id": "mcB8XuNhS8ID",
        "outputId": "7142e00f-c4d4-4902-9761-4497e752d64d"
      },
      "source": [
        "# do we remember the relationship between standard deviation and variance?\n",
        "df.std()**2"
      ],
      "execution_count": 91,
      "outputs": [
        {
          "output_type": "execute_result",
          "data": {
            "text/plain": [
              "I    X    11.000000\n",
              "     Y     4.127269\n",
              "II   X    11.000000\n",
              "     Y     4.127629\n",
              "III  X    11.000000\n",
              "     Y     4.122620\n",
              "IV   X    11.000000\n",
              "     Y     4.123249\n",
              "dtype: float64"
            ]
          },
          "metadata": {},
          "execution_count": 91
        }
      ]
    },
    {
      "cell_type": "markdown",
      "metadata": {
        "id": "Aj-AiqCBW5zi"
      },
      "source": [
        "We talked about the equation for a linear line last time:\n",
        "\n",
        "$$y(x)= m\\cdot x + b$$ "
      ]
    },
    {
      "cell_type": "code",
      "metadata": {
        "colab": {
          "base_uri": "https://localhost:8080/"
        },
        "id": "bNkEyZcrT4Gc",
        "outputId": "63f9f399-abcd-4768-fcd7-d00cb3796a2a"
      },
      "source": [
        "model = LinearRegression()\n",
        "sets = ['I', 'II', 'III', 'IV']\n",
        "for data in sets:\n",
        "  model.fit(df[data]['X'].values.reshape(11,1),\n",
        "            df[data]['Y'])\n",
        "  print(\"Linear Regression Line: Y = {:.2f}X + {:.2f}\".format(model.coef_[0], model.intercept_))"
      ],
      "execution_count": 92,
      "outputs": [
        {
          "output_type": "stream",
          "name": "stdout",
          "text": [
            "Linear Regression Line: Y = 0.50X + 3.00\n",
            "Linear Regression Line: Y = 0.50X + 3.00\n",
            "Linear Regression Line: Y = 0.50X + 3.00\n",
            "Linear Regression Line: Y = 0.50X + 3.00\n"
          ]
        }
      ]
    },
    {
      "cell_type": "markdown",
      "metadata": {
        "id": "L741u6hwX7KL"
      },
      "source": [
        "$R^2$ measures the goodness of fit. $R^2$ is generally defined as the ratio of the total sum of squares $SS_{\\sf tot} $ to the residual sum of squares $SS_{\\sf res} $:\n",
        "\n",
        "The Residual Sum of Squares is defined as:\n",
        "\n",
        "$$SS_{\\sf res}=\\sum_{i=1}^{N} \\left(y^{\\sf exact}_i - y^{\\sf calc}_i\\right)^2$$\n",
        "\n",
        "We now define the total sum of squares, a measure of the total variance in the data:\n",
        "\n",
        "$$SS_{\\sf tot}=\\sum_{i=1}^{N} \\left(y^{\\sf exact}_i-\\bar{y}\\right)^2$$\n",
        "\n",
        "The $R^2$ tells us how much of the variance of the data, is captured by the model we created:\n",
        "\n",
        "$$R^2 = 1 - {SS_{\\sf res}\\over SS_{\\sf tot}}$$\n",
        "\n",
        "In the first equation, $\\bar{y}=\\sum_i y^{\\sf exact}_i/N$ is the average value of y for $N$ points. The best value of $R^2$ is 1 but it can also take a negative value if the error is large."
      ]
    },
    {
      "cell_type": "code",
      "metadata": {
        "colab": {
          "base_uri": "https://localhost:8080/"
        },
        "id": "sVQboxuSaFT1",
        "outputId": "61ae2424-cb34-4904-88c4-9f1237476f78"
      },
      "source": [
        "for data in sets:\n",
        "  # calc the ssr\n",
        "  ssr = np.sum((df[data]['Y'] - \n",
        "                model.predict(df[data]['X'].values.reshape(-1,1)))**2)\n",
        "\n",
        "  # calc the sst\n",
        "  sst = np.sum((df[data]['Y'] - \n",
        "                df[data]['Y'].mean())**2)\n",
        "\n",
        "  # calc the r2\n",
        "  r2 = 1 - (ssr/sst)\n",
        "  print(\"R2 = {:.2f}\".format(r2))"
      ],
      "execution_count": 93,
      "outputs": [
        {
          "output_type": "stream",
          "name": "stdout",
          "text": [
            "R2 = 0.67\n",
            "R2 = 0.67\n",
            "R2 = 0.67\n",
            "R2 = 0.67\n"
          ]
        }
      ]
    },
    {
      "cell_type": "markdown",
      "metadata": {
        "id": "KafBcwpNdSEw"
      },
      "source": [
        "As we can see, everything checks out. The summary statistics are all the same!\n",
        "\n",
        "Can we answer the following:\n",
        "\n",
        "> What dataset is best described by the line of best fit?\n",
        "\n",
        "We will revisit this question when we talk about data visualization"
      ]
    },
    {
      "cell_type": "markdown",
      "metadata": {
        "id": "JmVKaUHeQNTJ"
      },
      "source": [
        "#### Taxonomy of Data Types\n",
        "\n",
        "Another important topic in data science, is simply what kind of data we are working with. This will help us decide what kind of models to build, as well as how to visualize our data, and perhaps store it as well.\n",
        "\n",
        "<p align=center>\n",
        "<img src=\"https://raw.githubusercontent.com/wesleybeckner/technology_explorers/main/assets/data_science/ds2.png\"></img>"
      ]
    },
    {
      "cell_type": "markdown",
      "metadata": {
        "id": "sJ8lgxbVfHRv"
      },
      "source": [
        "#### 💬 8\n",
        "\n",
        "What are some examples of the different datatypes we can think of?"
      ]
    },
    {
      "cell_type": "markdown",
      "metadata": {
        "id": "SQhxLuHuq2Sm"
      },
      "source": [
        "### Data Visualization\n",
        "\n",
        "Data visualization, like it sounds, has to do with how we display and communicate information. At the end of the day, your findings and algorithms aren't worth very much if we can't share them with others."
      ]
    },
    {
      "cell_type": "markdown",
      "metadata": {
        "id": "p9VXfFAJRECE"
      },
      "source": [
        "#### Guiding Principles of Data Visualization\n",
        "\n",
        "<p align=center>\n",
        "<img src=\"https://raw.githubusercontent.com/wesleybeckner/technology_explorers/main/assets/data_science/ds3.png\"></img>\n",
        "\n",
        "<p align=center>\n",
        "<img src=\"https://raw.githubusercontent.com/wesleybeckner/technology_explorers/main/assets/data_science/ds9.gif\"></img>"
      ]
    },
    {
      "cell_type": "markdown",
      "metadata": {
        "id": "7SNbgmyL9mS9"
      },
      "source": [
        "\n",
        "<p align=center>\n",
        "<img src=\"https://raw.githubusercontent.com/wesleybeckner/technology_explorers/main/assets/data_science/ds7.png\"></img>"
      ]
    },
    {
      "cell_type": "markdown",
      "metadata": {
        "id": "Ohf7faMgoPGV"
      },
      "source": [
        "wattenberg and Viegas visualization"
      ]
    },
    {
      "cell_type": "code",
      "metadata": {
        "colab": {
          "base_uri": "https://localhost:8080/",
          "height": 601
        },
        "id": "k_cE3KyG8xL9",
        "outputId": "3760b5ea-1e81-4d52-bc9f-a48dfa1326a2"
      },
      "source": [
        "%%HTML\n",
        "<video width=\"640\" height=\"580\" controls>\n",
        "  <source src=\"https://github.com/wesleybeckner/technology_explorers/blob/main/assets/data_science/ds4.mp4?raw=true\" type=\"video/mp4\">\n",
        "</video>"
      ],
      "execution_count": 94,
      "outputs": [
        {
          "output_type": "display_data",
          "data": {
            "text/html": [
              "<video width=\"640\" height=\"580\" controls>\n",
              "  <source src=\"https://github.com/wesleybeckner/technology_explorers/blob/main/assets/data_science/ds4.mp4?raw=true\" type=\"video/mp4\">\n",
              "</video>"
            ],
            "text/plain": [
              "<IPython.core.display.HTML object>"
            ]
          },
          "metadata": {}
        }
      ]
    },
    {
      "cell_type": "markdown",
      "metadata": {
        "id": "2YGmBTH09SEm"
      },
      "source": [
        "<p align=center>\n",
        "<img src=\"https://raw.githubusercontent.com/wesleybeckner/technology_explorers/main/assets/data_science/ds6.png\"></img>\n",
        "\n",
        "<p align=center>\n",
        "<img src=\"https://raw.githubusercontent.com/wesleybeckner/technology_explorers/main/assets/data_science/ds4.png\"></img>\n",
        "\n",
        "<p align=center>\n",
        "<img src=\"https://raw.githubusercontent.com/wesleybeckner/technology_explorers/main/assets/data_science/ds5.png\"></img>\n"
      ]
    },
    {
      "cell_type": "markdown",
      "metadata": {
        "id": "s19JCPvs7_Zi"
      },
      "source": [
        "<p align=center>\n",
        "<img src=\"https://raw.githubusercontent.com/wesleybeckner/technology_explorers/main/assets/data_science/ds8.png\"></img>\n"
      ]
    },
    {
      "cell_type": "markdown",
      "metadata": {
        "id": "tdF_-Hv28DtJ"
      },
      "source": [
        "<p align=center>\n",
        "<img src=\"https://raw.githubusercontent.com/wesleybeckner/technology_explorers/main/assets/data_science/ds9.png\"></img>\n",
        "\n",
        "<p align=center>\n",
        "<img src=\"https://raw.githubusercontent.com/wesleybeckner/technology_explorers/main/assets/data_science/ds10.png\"></img>\n",
        "\n",
        "\n",
        "<p align=center>\n",
        "<img src=\"https://raw.githubusercontent.com/wesleybeckner/technology_explorers/main/assets/data_science/ds11.png\"></img>\n",
        "\n",
        "<p align=center>\n",
        "<img src=\"https://raw.githubusercontent.com/wesleybeckner/technology_explorers/main/assets/data_science/ds12.png\"></img>\n",
        "\n",
        "<p align=center>\n",
        "<img src=\"https://raw.githubusercontent.com/wesleybeckner/technology_explorers/main/assets/data_science/ds13.png\"></img>\n",
        "\n",
        "<p align=center>\n",
        "<img src=\"https://raw.githubusercontent.com/wesleybeckner/technology_explorers/main/assets/data_science/ds14.jpg\"></img>"
      ]
    },
    {
      "cell_type": "markdown",
      "metadata": {
        "id": "D_06zMGURIr7"
      },
      "source": [
        "#### Visualization Un-Examples"
      ]
    },
    {
      "cell_type": "markdown",
      "metadata": {
        "id": "5NVGz4Eq9e6l"
      },
      "source": [
        "**Unexample 1**\n",
        "\n",
        "<p align=center>\n",
        "<img src=\"https://raw.githubusercontent.com/wesleybeckner/technology_explorers/main/assets/data_science/ds15.jpg\"></img>\n",
        "\n",
        "**Unexample 2**\n",
        "\n",
        "<p align=center>\n",
        "<img src=\"https://raw.githubusercontent.com/wesleybeckner/technology_explorers/main/assets/data_science/ds19.png\"></img>\n",
        "\n",
        "**Unexample 3**\n",
        "\n",
        "<p align=center>\n",
        "<img src=\"https://raw.githubusercontent.com/wesleybeckner/technology_explorers/main/assets/data_science/ds17.png\"></img>\n",
        "\n",
        "**Unexample 4**\n",
        "\n",
        "<p align=center>\n",
        "<img src=\"https://raw.githubusercontent.com/wesleybeckner/technology_explorers/main/assets/data_science/ds18.png\"></img>"
      ]
    },
    {
      "cell_type": "markdown",
      "metadata": {
        "id": "V5qKejgaiA2a"
      },
      "source": [
        "#### 💭 8\n",
        "\n",
        "Find an example of an interactive data visualization online. Here's one I [found](https://www.migrationpolicy.org/programs/data-hub/charts/us-immigrant-population-state-and-county) that I though was quite interesting!"
      ]
    },
    {
      "cell_type": "markdown",
      "metadata": {
        "id": "APz-Xw47quIL"
      },
      "source": [
        "#### 💬 8\n",
        "\n",
        "Swap visualization links with your neighbor. What do you think could be improved about each one?"
      ]
    },
    {
      "cell_type": "markdown",
      "metadata": {
        "id": "5AAGojcF-qSK"
      },
      "source": [
        "#### Back to Anscombe's Quartet\n",
        "\n",
        "<p align=center>\n",
        "<img src=\"https://raw.githubusercontent.com/wesleybeckner/technology_explorers/main/assets/data_science/ds20.png\"></img>"
      ]
    },
    {
      "cell_type": "markdown",
      "metadata": {
        "id": "E9eca3viqsug"
      },
      "source": [
        "### Revisiting our A.I. movie data\n",
        "\n",
        "Let's revisit our imdb dataset from last week."
      ]
    },
    {
      "cell_type": "code",
      "metadata": {
        "colab": {
          "base_uri": "https://localhost:8080/",
          "height": 481
        },
        "id": "PSQhDPZYqxFR",
        "outputId": "e1d3ecc7-a173-4b72-d1ed-8e9bfb82ae09"
      },
      "source": [
        "df.loc[(df['description'].str.contains('artificial intelligence|a\\.i\\.|robot', \n",
        "                                       na=False))][['original_title', 'year', 'description']][:10]"
      ],
      "execution_count": 103,
      "outputs": [
        {
          "output_type": "execute_result",
          "data": {
            "text/html": [
              "<div>\n",
              "<style scoped>\n",
              "    .dataframe tbody tr th:only-of-type {\n",
              "        vertical-align: middle;\n",
              "    }\n",
              "\n",
              "    .dataframe tbody tr th {\n",
              "        vertical-align: top;\n",
              "    }\n",
              "\n",
              "    .dataframe thead th {\n",
              "        text-align: right;\n",
              "    }\n",
              "</style>\n",
              "<table border=\"1\" class=\"dataframe\">\n",
              "  <thead>\n",
              "    <tr style=\"text-align: right;\">\n",
              "      <th></th>\n",
              "      <th>original_title</th>\n",
              "      <th>year</th>\n",
              "      <th>description</th>\n",
              "    </tr>\n",
              "  </thead>\n",
              "  <tbody>\n",
              "    <tr>\n",
              "      <th>1683</th>\n",
              "      <td>Son of a Sailor</td>\n",
              "      <td>1933.0</td>\n",
              "      <td>A smooth-talking sailor looking for a quick date meets the granddaughter of an admiral and finds himself in a house full of top Navy officers, along with a couple of spies interested in plans for a new robot-controlled flight system.</td>\n",
              "    </tr>\n",
              "    <tr>\n",
              "      <th>3339</th>\n",
              "      <td>The Middleton Family at the New York World's Fair</td>\n",
              "      <td>1939.0</td>\n",
              "      <td>The Middleton family visits the 1939 New York World's Fair and witnesses the advent of the future, encountering robots and dishwashers for the first time.</td>\n",
              "    </tr>\n",
              "    <tr>\n",
              "      <th>3846</th>\n",
              "      <td>Emergency Landing</td>\n",
              "      <td>1941.0</td>\n",
              "      <td>A test pilot and his weather observer develop a \"robot\" control so airplanes can be flown without pilots, but enemy agents get wind of it and try to steal it or destroy it.</td>\n",
              "    </tr>\n",
              "    <tr>\n",
              "      <th>4122</th>\n",
              "      <td>Cairo</td>\n",
              "      <td>1942.0</td>\n",
              "      <td>Reporter Homer Smith accidentally draws Marcia Warren into his mission to stop Nazis from bombing Allied Convoys with robot-planes.</td>\n",
              "    </tr>\n",
              "    <tr>\n",
              "      <th>6274</th>\n",
              "      <td>The Perfect Woman</td>\n",
              "      <td>1949.0</td>\n",
              "      <td>In need of cash, Roger Cavendish and his valet take a job escorting the perfect woman for a night on the town. She is in fact the robotic creation of Professor Belman, but it turns out ...</td>\n",
              "    </tr>\n",
              "    <tr>\n",
              "      <th>7936</th>\n",
              "      <td>Devil Girl from Mars</td>\n",
              "      <td>1954.0</td>\n",
              "      <td>An uptight, leather-clad female alien, armed with a ray gun and accompanied by a menacing robot, comes to Earth to collect Earth's men as breeding stock.</td>\n",
              "    </tr>\n",
              "    <tr>\n",
              "      <th>7977</th>\n",
              "      <td>Gog</td>\n",
              "      <td>1954.0</td>\n",
              "      <td>A security agent investigates sabotage and murder at a secret underground laboratory, home of two experimental robots.</td>\n",
              "    </tr>\n",
              "    <tr>\n",
              "      <th>8155</th>\n",
              "      <td>Target Earth</td>\n",
              "      <td>1954.0</td>\n",
              "      <td>Giant robots from Venus invade Chicago. Stranded in the deserted city are strangers Frank and Nora.</td>\n",
              "    </tr>\n",
              "    <tr>\n",
              "      <th>8173</th>\n",
              "      <td>Tobor the Great</td>\n",
              "      <td>1954.0</td>\n",
              "      <td>A young boy-genius befriends his grandfather's robot, designed as a test pilot for space travel and coveted by foreign spies.</td>\n",
              "    </tr>\n",
              "    <tr>\n",
              "      <th>9047</th>\n",
              "      <td>Chikyû Bôeigun</td>\n",
              "      <td>1957.0</td>\n",
              "      <td>Shortly after a giant robot destroys a village, aliens from outer space arrive offering friendship. Will the people of Earth tie these two events together?</td>\n",
              "    </tr>\n",
              "  </tbody>\n",
              "</table>\n",
              "</div>"
            ],
            "text/plain": [
              "                                         original_title  ...                                                                                                                                                                                                                                description\n",
              "1683                                    Son of a Sailor  ...  A smooth-talking sailor looking for a quick date meets the granddaughter of an admiral and finds himself in a house full of top Navy officers, along with a couple of spies interested in plans for a new robot-controlled flight system.\n",
              "3339  The Middleton Family at the New York World's Fair  ...                                                                                 The Middleton family visits the 1939 New York World's Fair and witnesses the advent of the future, encountering robots and dishwashers for the first time.\n",
              "3846                                  Emergency Landing  ...                                                               A test pilot and his weather observer develop a \"robot\" control so airplanes can be flown without pilots, but enemy agents get wind of it and try to steal it or destroy it.\n",
              "4122                                              Cairo  ...                                                                                                        Reporter Homer Smith accidentally draws Marcia Warren into his mission to stop Nazis from bombing Allied Convoys with robot-planes.\n",
              "6274                                  The Perfect Woman  ...                                               In need of cash, Roger Cavendish and his valet take a job escorting the perfect woman for a night on the town. She is in fact the robotic creation of Professor Belman, but it turns out ...\n",
              "7936                               Devil Girl from Mars  ...                                                                                  An uptight, leather-clad female alien, armed with a ray gun and accompanied by a menacing robot, comes to Earth to collect Earth's men as breeding stock.\n",
              "7977                                                Gog  ...                                                                                                                     A security agent investigates sabotage and murder at a secret underground laboratory, home of two experimental robots.\n",
              "8155                                       Target Earth  ...                                                                                                                                        Giant robots from Venus invade Chicago. Stranded in the deserted city are strangers Frank and Nora.\n",
              "8173                                    Tobor the Great  ...                                                                                                              A young boy-genius befriends his grandfather's robot, designed as a test pilot for space travel and coveted by foreign spies.\n",
              "9047                                     Chikyû Bôeigun  ...                                                                                Shortly after a giant robot destroys a village, aliens from outer space arrive offering friendship. Will the people of Earth tie these two events together?\n",
              "\n",
              "[10 rows x 3 columns]"
            ]
          },
          "metadata": {},
          "execution_count": 103
        }
      ]
    },
    {
      "cell_type": "markdown",
      "metadata": {
        "id": "zf1GIFq4rPNE"
      },
      "source": [
        "What are some potential issues with the following plot?"
      ]
    },
    {
      "cell_type": "code",
      "metadata": {
        "id": "L4AUMHrKrOp4"
      },
      "source": [
        "ai_movies = df.loc[(df['description'].str.contains('artificial intelligence|a\\.i\\.|robot', \n",
        "                                       na=False))]"
      ],
      "execution_count": 104,
      "outputs": []
    },
    {
      "cell_type": "code",
      "metadata": {
        "colab": {
          "base_uri": "https://localhost:8080/",
          "height": 357
        },
        "id": "tjLDTiRBrXyJ",
        "outputId": "75e83a38-7708-4c11-b1ad-2b6f80a09c25"
      },
      "source": [
        "fig, ax = plt.subplots(figsize=(10,5))\n",
        "ai_movies.groupby('year').count()['imdb_title_id'].plot(marker='.', ax=ax)"
      ],
      "execution_count": 105,
      "outputs": [
        {
          "output_type": "execute_result",
          "data": {
            "text/plain": [
              "<matplotlib.axes._subplots.AxesSubplot at 0x7fb9f7cb3210>"
            ]
          },
          "metadata": {},
          "execution_count": 105
        },
        {
          "output_type": "display_data",
          "data": {
            "image/png": "[encoded data removed]",
            "text/plain": [
              "<Figure size 720x360 with 1 Axes>"
            ]
          },
          "metadata": {}
        }
      ]
    },
    {
      "cell_type": "markdown",
      "metadata": {
        "id": "DgbBxgOiuFcl"
      },
      "source": [
        "Let's say we're curious about the year 1986..."
      ]
    },
    {
      "cell_type": "code",
      "metadata": {
        "colab": {
          "base_uri": "https://localhost:8080/",
          "height": 1000
        },
        "id": "VQAeF4SEthzs",
        "outputId": "69fcd710-bdcf-46cc-998f-1b60de8ef617"
      },
      "source": [
        "ai_movies.loc[ai_movies['year'] == 1986]"
      ],
      "execution_count": 100,
      "outputs": [
        {
          "output_type": "execute_result",
          "data": {
            "text/html": [
              "<div>\n",
              "<style scoped>\n",
              "    .dataframe tbody tr th:only-of-type {\n",
              "        vertical-align: middle;\n",
              "    }\n",
              "\n",
              "    .dataframe tbody tr th {\n",
              "        vertical-align: top;\n",
              "    }\n",
              "\n",
              "    .dataframe thead th {\n",
              "        text-align: right;\n",
              "    }\n",
              "</style>\n",
              "<table border=\"1\" class=\"dataframe\">\n",
              "  <thead>\n",
              "    <tr style=\"text-align: right;\">\n",
              "      <th></th>\n",
              "      <th>imdb_title_id</th>\n",
              "      <th>title</th>\n",
              "      <th>original_title</th>\n",
              "      <th>year</th>\n",
              "      <th>date_published</th>\n",
              "      <th>genre</th>\n",
              "      <th>duration</th>\n",
              "      <th>country</th>\n",
              "      <th>language</th>\n",
              "      <th>director</th>\n",
              "      <th>writer</th>\n",
              "      <th>production_company</th>\n",
              "      <th>actors</th>\n",
              "      <th>description</th>\n",
              "      <th>avg_vote</th>\n",
              "      <th>votes</th>\n",
              "      <th>budget</th>\n",
              "      <th>usa_gross_income</th>\n",
              "      <th>worlwide_gross_income</th>\n",
              "      <th>metascore</th>\n",
              "      <th>reviews_from_users</th>\n",
              "      <th>reviews_from_critics</th>\n",
              "    </tr>\n",
              "  </thead>\n",
              "  <tbody>\n",
              "    <tr>\n",
              "      <th>22463</th>\n",
              "      <td>tt0090837</td>\n",
              "      <td>Supermarket horror</td>\n",
              "      <td>Chopping Mall</td>\n",
              "      <td>1986.0</td>\n",
              "      <td>1986-03-21</td>\n",
              "      <td>Comedy, Horror, Sci-Fi</td>\n",
              "      <td>77</td>\n",
              "      <td>USA</td>\n",
              "      <td>English, Italian</td>\n",
              "      <td>Jim Wynorski</td>\n",
              "      <td>Jim Wynorski, Steve Mitchell</td>\n",
              "      <td>Concorde Pictures</td>\n",
              "      <td>Kelli Maroney, Tony O'Dell, Russell Todd, Karrie Emerson, Barbara Crampton, Nick Segal, John Terlesky, Suzee Slater, Paul Bartel, Mary Woronov, Dick Miller, Gerrit Graham, Mel Welles, Angela Aames, Paul Coufos</td>\n",
              "      <td>A group of young shopping mall employees stay behind for a late night party in one of the stores. When the mall goes on lock-down before they can get out, the robot security system malfunctions, and goes on a killing spree.</td>\n",
              "      <td>5.6</td>\n",
              "      <td>11451</td>\n",
              "      <td>$ 800000</td>\n",
              "      <td>NaN</td>\n",
              "      <td>NaN</td>\n",
              "      <td>22.0</td>\n",
              "      <td>160.0</td>\n",
              "      <td>116.0</td>\n",
              "    </tr>\n",
              "    <tr>\n",
              "      <th>22489</th>\n",
              "      <td>tt0090917</td>\n",
              "      <td>Dovevi essere morta</td>\n",
              "      <td>Deadly Friend</td>\n",
              "      <td>1986.0</td>\n",
              "      <td>1987-02-06</td>\n",
              "      <td>Drama, Horror, Sci-Fi</td>\n",
              "      <td>91</td>\n",
              "      <td>USA</td>\n",
              "      <td>English</td>\n",
              "      <td>Wes Craven</td>\n",
              "      <td>Diana Henstell, Bruce Joel Rubin</td>\n",
              "      <td>Warner Bros.</td>\n",
              "      <td>Matthew Labyorteaux, Kristy Swanson, Michael Sharrett, Anne Twomey, Anne Ramsey, Richard Marcus, Russ Marin, Lee Paul, Andrew Roperto, Charles Fleischer, Robin Nuyen, Frank Cavestani, Merritt Olsen, William H. Faeth, Joel Hile</td>\n",
              "      <td>After his friend is killed by her abusive father, the new kid in town attempts to save her by implanting robotic microchips into her brain.</td>\n",
              "      <td>5.6</td>\n",
              "      <td>6537</td>\n",
              "      <td>NaN</td>\n",
              "      <td>$ 8988731</td>\n",
              "      <td>$ 8988731</td>\n",
              "      <td>44.0</td>\n",
              "      <td>73.0</td>\n",
              "      <td>66.0</td>\n",
              "    </tr>\n",
              "    <tr>\n",
              "      <th>22522</th>\n",
              "      <td>tt0091003</td>\n",
              "      <td>Eliminators</td>\n",
              "      <td>Eliminators</td>\n",
              "      <td>1986.0</td>\n",
              "      <td>1986-01-31</td>\n",
              "      <td>Action, Adventure, Fantasy</td>\n",
              "      <td>96</td>\n",
              "      <td>USA, Spain</td>\n",
              "      <td>English</td>\n",
              "      <td>Peter Manoogian</td>\n",
              "      <td>Paul De Meo, Danny Bilson</td>\n",
              "      <td>Empire Pictures</td>\n",
              "      <td>Andrew Prine, Denise Crosby, Patrick Reynolds, Conan Lee, Roy Dotrice, Peter Schrum, Peggy Mannix, Fausto Bara, Tad Horino, Luis Lorenzo, José Moreno, Charly Bravo, Miguel de Grandy, Gabino Diego</td>\n",
              "      <td>A former pilot rebels against his creator, teaming up with the scientist responsible for android technology, her pet robot Spot, a rough-and-tumble riverboat guide, and a martial arts warrior.</td>\n",
              "      <td>4.8</td>\n",
              "      <td>1846</td>\n",
              "      <td>NaN</td>\n",
              "      <td>$ 4601256</td>\n",
              "      <td>$ 4601256</td>\n",
              "      <td>NaN</td>\n",
              "      <td>27.0</td>\n",
              "      <td>63.0</td>\n",
              "    </tr>\n",
              "    <tr>\n",
              "      <th>22796</th>\n",
              "      <td>tt0091772</td>\n",
              "      <td>Podróze pana Kleksa</td>\n",
              "      <td>Podróze pana Kleksa</td>\n",
              "      <td>1986.0</td>\n",
              "      <td>1986-02-03</td>\n",
              "      <td>Family, Adventure, Fantasy</td>\n",
              "      <td>164</td>\n",
              "      <td>Poland, Soviet Union</td>\n",
              "      <td>Polish</td>\n",
              "      <td>Krzysztof Gradowski</td>\n",
              "      <td>Jan Brzechwa, Krzysztof Gradowski</td>\n",
              "      <td>Kinostudiya imeni M. Gorkogo</td>\n",
              "      <td>Piotr Fronczewski, Malgorzata Ostrowska, Henryk Bista, Zbigniew Buczkowski, Georgiy Vitsin, Irina Gubanova, Jerzy Bonczak, Marcin Baranski, Wieslaw Michnikowski, Wladyslaw Kowalski, Leon Niemczyk, Jerzy Kryszak, L. Morozova, Nikolay Pogodin, Michal Aniol</td>\n",
              "      <td>Mr. Kleks visits at night, a boy who is a patient at the hospital. He decides to tell him a story, starting with the fact that Great Elektronik together with your robots conquered the island of inventors.</td>\n",
              "      <td>6.6</td>\n",
              "      <td>374</td>\n",
              "      <td>NaN</td>\n",
              "      <td>NaN</td>\n",
              "      <td>NaN</td>\n",
              "      <td>NaN</td>\n",
              "      <td>NaN</td>\n",
              "      <td>NaN</td>\n",
              "    </tr>\n",
              "    <tr>\n",
              "      <th>22803</th>\n",
              "      <td>tt0091794</td>\n",
              "      <td>Purojekuto A-ko</td>\n",
              "      <td>Purojekuto A-ko</td>\n",
              "      <td>1986.0</td>\n",
              "      <td>1986-06-21</td>\n",
              "      <td>Animation, Action, Adventure</td>\n",
              "      <td>86</td>\n",
              "      <td>Japan</td>\n",
              "      <td>Japanese</td>\n",
              "      <td>Katsuhiko Nishijima</td>\n",
              "      <td>Tomoko Kawasaki, Yûji Moriyama</td>\n",
              "      <td>A.P.P.P.</td>\n",
              "      <td>Miki Itô, Stacey Gregg, Emi Shinohara, Denica Fairman, Michie Tomizawa, Julia Braams, Shûichi Ikeda, Jay Benedict, Marc Smith, Tesshô Genda, Asami Mukaidono, Liza Ross, Akari Hibino, Toni Barry, Yoshino Takamori</td>\n",
              "      <td>Project A-ko is the typical love triangle of three school girls and their confrontations with aliens, giant robots, and women who look like burly men.</td>\n",
              "      <td>7.0</td>\n",
              "      <td>1118</td>\n",
              "      <td>NaN</td>\n",
              "      <td>NaN</td>\n",
              "      <td>NaN</td>\n",
              "      <td>NaN</td>\n",
              "      <td>16.0</td>\n",
              "      <td>14.0</td>\n",
              "    </tr>\n",
              "    <tr>\n",
              "      <th>22858</th>\n",
              "      <td>tt0091949</td>\n",
              "      <td>Corto circuito</td>\n",
              "      <td>Short Circuit</td>\n",
              "      <td>1986.0</td>\n",
              "      <td>1986-12-20</td>\n",
              "      <td>Comedy, Family, Sci-Fi</td>\n",
              "      <td>98</td>\n",
              "      <td>USA</td>\n",
              "      <td>English</td>\n",
              "      <td>John Badham</td>\n",
              "      <td>S.S. Wilson, Brent Maddock</td>\n",
              "      <td>TriStar Pictures</td>\n",
              "      <td>Ally Sheedy, Steve Guttenberg, Fisher Stevens, Austin Pendleton, G.W. Bailey, Brian McNamara, Tim Blaney, Marvin J. McIntyre, John Garber, Penny Santon, Vernon Weddle, Barbara Tarbuck, Tom Lawrence, Fred Slyter, Billy Ray Sharkey</td>\n",
              "      <td>Number 5 of a group of experimental robots in a lab is electrocuted, suddenly becomes intelligent, and escapes.</td>\n",
              "      <td>6.7</td>\n",
              "      <td>55783</td>\n",
              "      <td>$ 9000000</td>\n",
              "      <td>$ 40697761</td>\n",
              "      <td>$ 40697761</td>\n",
              "      <td>50.0</td>\n",
              "      <td>113.0</td>\n",
              "      <td>52.0</td>\n",
              "    </tr>\n",
              "    <tr>\n",
              "      <th>22906</th>\n",
              "      <td>tt0092106</td>\n",
              "      <td>The Transformers: The Movie</td>\n",
              "      <td>The Transformers: The Movie</td>\n",
              "      <td>1986.0</td>\n",
              "      <td>1986-08-08</td>\n",
              "      <td>Animation, Action, Adventure</td>\n",
              "      <td>84</td>\n",
              "      <td>USA, Japan</td>\n",
              "      <td>English, Japanese</td>\n",
              "      <td>Nelson Shin</td>\n",
              "      <td>Ron Friedman</td>\n",
              "      <td>Sunbow Productions</td>\n",
              "      <td>Norman Alden, Jack Angel, Michael Bell, Gregg Berger, Susan Blu, Arthur Burghardt, Corey Burton, Roger C. Carmel, Victor Caroli, Regis Cordic, Peter Cullen, Scatman Crothers, Bud Davis, Walker Edmiston, Paul Eiding</td>\n",
              "      <td>The Autobots must stop a colossal planet consuming robot who goes after the Autobot Matrix of Leadership. At the same time, they must defend themselves against an all-out attack from the Decepticons.</td>\n",
              "      <td>7.3</td>\n",
              "      <td>37026</td>\n",
              "      <td>$ 6000000</td>\n",
              "      <td>$ 5849647</td>\n",
              "      <td>$ 5860601</td>\n",
              "      <td>NaN</td>\n",
              "      <td>349.0</td>\n",
              "      <td>146.0</td>\n",
              "    </tr>\n",
              "    <tr>\n",
              "      <th>22927</th>\n",
              "      <td>tt0092172</td>\n",
              "      <td>The Vindicator</td>\n",
              "      <td>The Vindicator</td>\n",
              "      <td>1986.0</td>\n",
              "      <td>1986-02-14</td>\n",
              "      <td>Action, Sci-Fi, Thriller</td>\n",
              "      <td>93</td>\n",
              "      <td>Canada</td>\n",
              "      <td>English</td>\n",
              "      <td>Jean-Claude Lord</td>\n",
              "      <td>Edith Rey, David Preston</td>\n",
              "      <td>Frank &amp; Stein Film Productions</td>\n",
              "      <td>David McIlwraith, Teri Austin, Richard Cox, Pam Grier, Maury Chaykin, Catherine Disher, Stephen Mendel, Micki Moore, Larry Aubrey, Lynda Mason Green, Denis Simpson, Caroline Arnold, John Zobolles, Trevor Daves, Carl Knutson</td>\n",
              "      <td>An employee of a secret company operation becomes the victim of the company's special weapons project. He is transformed into a robotic killing machine that, because of his programming must...</td>\n",
              "      <td>5.1</td>\n",
              "      <td>760</td>\n",
              "      <td>$ 4210000</td>\n",
              "      <td>$ 12000</td>\n",
              "      <td>$ 12000</td>\n",
              "      <td>NaN</td>\n",
              "      <td>24.0</td>\n",
              "      <td>25.0</td>\n",
              "    </tr>\n",
              "    <tr>\n",
              "      <th>54621</th>\n",
              "      <td>tt1147528</td>\n",
              "      <td>Doraemon - Nobita e le truppe d'acciaio</td>\n",
              "      <td>Doraemon: Nobita to tetsujin heidan</td>\n",
              "      <td>1986.0</td>\n",
              "      <td>1986-03-15</td>\n",
              "      <td>Animation, Adventure, Family</td>\n",
              "      <td>97</td>\n",
              "      <td>Japan</td>\n",
              "      <td>Japanese, English</td>\n",
              "      <td>Tsutomu Shibayama</td>\n",
              "      <td>Fujio F. Fujiko</td>\n",
              "      <td>Shin Ei Animation</td>\n",
              "      <td>Nobuyo Ôyama, Noriko Ohara, Michiko Nomura, Kaneta Kimotsuki, Kazuya Tatekabe</td>\n",
              "      <td>Nobita with Doraemon and others fight a robot army to save earth for alien invasion.</td>\n",
              "      <td>7.1</td>\n",
              "      <td>241</td>\n",
              "      <td>NaN</td>\n",
              "      <td>NaN</td>\n",
              "      <td>$ 13202181</td>\n",
              "      <td>NaN</td>\n",
              "      <td>NaN</td>\n",
              "      <td>NaN</td>\n",
              "    </tr>\n",
              "  </tbody>\n",
              "</table>\n",
              "</div>"
            ],
            "text/plain": [
              "      imdb_title_id  ... reviews_from_critics\n",
              "22463     tt0090837  ...                116.0\n",
              "22489     tt0090917  ...                 66.0\n",
              "22522     tt0091003  ...                 63.0\n",
              "22796     tt0091772  ...                  NaN\n",
              "22803     tt0091794  ...                 14.0\n",
              "22858     tt0091949  ...                 52.0\n",
              "22906     tt0092106  ...                146.0\n",
              "22927     tt0092172  ...                 25.0\n",
              "54621     tt1147528  ...                  NaN\n",
              "\n",
              "[9 rows x 22 columns]"
            ]
          },
          "metadata": {},
          "execution_count": 100
        }
      ]
    },
    {
      "cell_type": "markdown",
      "metadata": {
        "id": "wC6rIa1AuJS_"
      },
      "source": [
        "Looks like a good year for US-Japan movie making. How can we look into the role of different countries in AI movie making?\n",
        "\n",
        "> in the following, pandas doesn't have the ability to color according to a categorical column, out of the box. So I switch over to seaborn. For more exercises with seaborn visit [this link](https://jakevdp.github.io/PythonDataScienceHandbook/04.14-visualization-with-seaborn.html)"
      ]
    },
    {
      "cell_type": "code",
      "metadata": {
        "colab": {
          "base_uri": "https://localhost:8080/",
          "height": 357
        },
        "id": "6bbvCzD5uSHk",
        "outputId": "ef0105b4-ad6e-4d49-fa9d-b195f5be277a"
      },
      "source": [
        "fig, ax = plt.subplots(figsize=(12,5))\n",
        "by_country = ai_movies.groupby(['country']).filter(lambda x: (x.count() >= 5).any()).\\\n",
        "          groupby(['country', 'year']).apply(lambda x: x.count())[['title']].reset_index()\n",
        "with sns.axes_style('white'):\n",
        "    g = sns.barplot(x=\"year\", data=by_country, hue='country', y='title', ax=ax, order=range(1999, 2019))\n",
        "ax.set_ylabel('Number of Films')"
      ],
      "execution_count": 125,
      "outputs": [
        {
          "output_type": "execute_result",
          "data": {
            "text/plain": [
              "Text(0, 0.5, 'Number of Films')"
            ]
          },
          "metadata": {},
          "execution_count": 125
        },
        {
          "output_type": "display_data",
          "data": {
            "image/png": "[encoded data removed]",
            "text/plain": [
              "<Figure size 864x360 with 1 Axes>"
            ]
          },
          "metadata": {}
        }
      ]
    },
    {
      "cell_type": "markdown",
      "metadata": {
        "id": "q90CNJ0o3ABJ"
      },
      "source": [
        "For the last 20 years we can see that U.S./Japan have dominated the A.I. movie market"
      ]
    }
  ]
}