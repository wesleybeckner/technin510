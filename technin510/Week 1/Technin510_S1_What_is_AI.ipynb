{
  "nbformat": 4,
  "nbformat_minor": 0,
  "metadata": {
    "colab": {
      "name": "Technin510_S1_What_is_AI.ipynb",
      "provenance": [],
      "collapsed_sections": [],
      "toc_visible": true,
      "authorship_tag": "ABX9TyPVzLGppxDsxIRyx3lWLakv",
      "include_colab_link": true
    },
    "kernelspec": {
      "name": "python3",
      "display_name": "Python 3"
    },
    "language_info": {
      "name": "python"
    }
  },
  "cells": [
    {
      "cell_type": "markdown",
      "metadata": {
        "id": "view-in-github",
        "colab_type": "text"
      },
      "source": [
        "<a href=\"https://colab.research.google.com/github/wesleybeckner/technin510/blob/main/technin510/Week%201/Technin510_S1_What_is_AI.ipynb\" target=\"_parent\"><img src=\"https://colab.research.google.com/assets/colab-badge.svg\" alt=\"Open In Colab\"/></a>"
      ]
    },
    {
      "cell_type": "markdown",
      "metadata": {
        "id": "sl4y2JiLTzYT"
      },
      "source": [
        "# Technology Innovation 510\n",
        "## Introduction to Data Science Methods: Artificial Intelligence\n",
        "\n",
        "**Instructor**: Wesley Beckner\n",
        "\n",
        "**Contact**: wesleybeckner@gmail.com\n",
        "\n",
        "<br>\n",
        "\n",
        "---\n",
        "\n",
        "<br>\n",
        "\n",
        "🎉 Today, we'll be working from this _digital_ notebook to complete exercises! If you don't have a computer, not to worry. Grab a notepad and pencil to write down your ideas and notes! 🎉\n",
        "\n",
        "For those of us who have a computer, we can get practice today playing with one of the most important data science tools, python (a computer programming language) and jupyter notebooks (what I'm presenting from right now!).\n",
        "\n",
        "Whenever there is a python exercise, you'll see this icon 🐍 and a code cell beneath it, again, these are optional so don't feel left out if you don't have a computer today, you can always go back and reference this later. Just be sure to keep notes 📝!\n",
        "\n",
        "<br>\n",
        "\n",
        "---"
      ]
    },
    {
      "cell_type": "markdown",
      "metadata": {
        "id": "_m9TUN1n_ZUQ"
      },
      "source": [
        "## 🤖 What is Artificial Intelligence?\n",
        "\n",
        "There are three topics that we'd like to define and talk about: artificial intelligence 🤖, machine learning 🧠, and data science 📊. We're going to start with artificial intelligence, we'll see why later on!"
      ]
    },
    {
      "cell_type": "markdown",
      "metadata": {
        "id": "Q68LpDmuZt5w"
      },
      "source": [
        "### Artificial Intelligence in Pop Culture\n",
        "\n",
        "First, we'll talk about A.I. in pop culture"
      ]
    },
    {
      "cell_type": "markdown",
      "metadata": {
        "id": "G9TdJDmFLMFT"
      },
      "source": [
        "#### 💭 1\n",
        "\n",
        "Think about the very **_first_** time you ever saw or heard a reference to artificial intelligence in a show or movie. \n",
        "\n",
        "Once you've thought of it, write it down!"
      ]
    },
    {
      "cell_type": "markdown",
      "metadata": {
        "id": "GLnMTrG2Jqk3"
      },
      "source": [
        " #### 🐍 1\n",
        " \n",
        "In the code cell below, write down the name of your show or movie between double quotes `\" \"`, set this equal to a variable name using a `=` symbol. Ex:\n",
        "\n",
        " ```\n",
        " first_ai_film = \"Bicentennial Man\"\n",
        " ```\n",
        "\n",
        " This is an example of variable setting in python! We use the quotes `\" \"` to make our variable _type_ a string and use the underscores `_` to separate individual words in our variable name!"
      ]
    },
    {
      "cell_type": "code",
      "metadata": {
        "id": "UYrlZRQTSAsS"
      },
      "source": [
        "# Code Cell for Python Exercise 1\n",
        "first_ai_film = \"Bicentennial Man\""
      ],
      "execution_count": null,
      "outputs": []
    },
    {
      "cell_type": "markdown",
      "metadata": {
        "id": "uwXVLoZaJDtA"
      },
      "source": [
        "#### 💬 1\n",
        "\n",
        "What were some of our first films? Mine was (I think) \"Bicentennial Man\" with Robin Williams (rest his soul)\n",
        "\n",
        "<p align=center>\n",
        "<img src=\"https://upload.wikimedia.org/wikipedia/en/f/fc/Bicentennial_man_film_poster.jpg\"></img>\n",
        "</p>\n",
        "\n",
        "Now that we have some films in mind. Let's see if we can discover any general trends about them."
      ]
    },
    {
      "cell_type": "markdown",
      "metadata": {
        "id": "Uq_mdWX4LpnF"
      },
      "source": [
        "#### 💭 2\n",
        "\n",
        "Take a few moments now and answer the following (googling is a-ok!)\n",
        "\n",
        "1. what year was the film/show produced?\n",
        "2. what year did your film/show take place (if one is available)\n",
        "3. was AI a central topic in your film/show or was it a supporting topic?\n",
        "4. did AI ever pose a threat to mankind in the film/show?\n",
        "5. how old were you when you saw the film/show"
      ]
    },
    {
      "cell_type": "markdown",
      "metadata": {
        "id": "AewibIyBLpje"
      },
      "source": [
        "#### 🐍 2\n",
        "\n",
        "We want to store our answers for 1-5 in a _dictionary_. Dictionaries in python are created with curly brackets, `{}`. Fill in your answers into the template below:\n",
        "\n",
        "```\n",
        "movie = {\"name\": \"Bicentenial Man\",\n",
        "        \"released\": 1999,\n",
        "        \"setting\": 2005,\n",
        "        \"my age\": 8,\n",
        "        \"central or supporting\": \"central\",\n",
        "        \"ai as a threat\": True}\n",
        "```"
      ]
    },
    {
      "cell_type": "code",
      "metadata": {
        "id": "DxPwoEXWJe_U"
      },
      "source": [
        "# Code Cell for Python Exercise 2\n",
        "movie = {\"name\": , # the name of the movie in quotes\n",
        "        \"released\": , # the year released without quotes\n",
        "        \"setting\": , # the year it takes place without quotes\n",
        "        \"my age\": , # your age when you saw it without quotes\n",
        "        \"central or supporting\": \"central\", # write \"central\" or \"supporting\"\n",
        "        \"ai as a threat\": True # write True or False}"
      ],
      "execution_count": null,
      "outputs": []
    },
    {
      "cell_type": "markdown",
      "metadata": {
        "id": "lpaqbZgvbsXf"
      },
      "source": [
        "#### 💬 2\n",
        "\n",
        "Once we've gathered some details about our movie, what do we notice? How old were we usually? Was the AI posed as a threat to mankind? What time in the future did the drama take place?"
      ]
    },
    {
      "cell_type": "markdown",
      "metadata": {
        "id": "S78AsOS_YPS9"
      },
      "source": [
        "I've created a dictionary of dictionaries below. Let's see if we can add some other entries to this! 📚"
      ]
    },
    {
      "cell_type": "code",
      "metadata": {
        "id": "yBE97zeZNJF7"
      },
      "source": [
        "movies = {\n",
        "        1: {\"name\": \"Bicentenial Man\",\n",
        "        \"released\": 1999,\n",
        "        \"setting\": 2005,\n",
        "        \"central or supporting\": \"central\",\n",
        "        \"ai as a threat\": True},\n",
        "        2: {\"name\": \"Star Wars Episode I\",\n",
        "        \"released\": 1999,\n",
        "        \"setting\": None,\n",
        "        \"central or supporting\": \"supporting\",\n",
        "        \"ai as a threat\": False},\n",
        "        3: {\"name\": \"A.I. Artificial Intelligence\",\n",
        "        \"released\": 2001,\n",
        "        \"setting\": 2200,\n",
        "        \"central or supporting\": \"central\",\n",
        "        \"ai as a threat\": True},\n",
        "        4: {\"name\": \"The Matrix\",\n",
        "        \"released\": 1999,\n",
        "        \"setting\": 2199,\n",
        "        \"central or supporting\": \"central\",\n",
        "        \"ai as a threat\": True},\n",
        "        5: {\"name\": \"Her\",\n",
        "        \"released\": 2013,\n",
        "        \"setting\": \"2025-2050\",\n",
        "        \"central or supporting\": \"supporting\",\n",
        "        \"ai as a threat\": False},\n",
        "\n",
        "        6: {\"name\": \"2001: A Space Odyssey \",\n",
        "        \"released\": 1968,\n",
        "        \"setting\": 2001,\n",
        "        \"central or supporting\": \"supporting\",\n",
        "        \"ai as a threat\": True},\n",
        "        7: {\"name\": \"Ghost in the Shell\",\n",
        "        \"released\": 1995,\n",
        "        \"setting\": 2029,\n",
        "        \"central or supporting\": \"central\",\n",
        "        \"ai as a threat\": True},\n",
        "        8: {\"name\": \"Cyborg 2\",\n",
        "        \"released\": 1993,\n",
        "        \"setting\": 2074,\n",
        "        \"central or supporting\": \"central\",\n",
        "        \"ai as a threat\": False},\n",
        "        9: {\"name\": \"The Iron Giant\",\n",
        "        \"released\": 1999,\n",
        "        \"setting\": 1957,\n",
        "        \"central or supporting\": \"supporting\",\n",
        "        \"ai as a threat\": False},\n",
        "        10: {\"name\": \"Metropolis\",\n",
        "        \"released\": 1927,\n",
        "        \"setting\": None,\n",
        "        \"central or supporting\": \"supporting\",\n",
        "        \"ai as a threat\": False},\n",
        "        }"
      ],
      "execution_count": null,
      "outputs": []
    },
    {
      "cell_type": "markdown",
      "metadata": {
        "id": "NMsyWhuXZ5_Z"
      },
      "source": [
        "A little bit of python info here. In python, once we've created a variable, we can call it up by simply typing the name. Like so:"
      ]
    },
    {
      "cell_type": "code",
      "metadata": {
        "colab": {
          "base_uri": "https://localhost:8080/"
        },
        "id": "tvwy_qD5Zgns",
        "outputId": "57006eee-7959-4616-eec1-42ad9fceb189"
      },
      "source": [
        "movies"
      ],
      "execution_count": null,
      "outputs": [
        {
          "output_type": "execute_result",
          "data": {
            "text/plain": [
              "{1: {'ai as a threat': True,\n",
              "  'central or supporting': 'central',\n",
              "  'name': 'Bicentenial Man',\n",
              "  'released': 1999,\n",
              "  'setting': 2005},\n",
              " 2: {'ai as a threat': False,\n",
              "  'central or supporting': 'supporting',\n",
              "  'name': 'Star Wars Episode I',\n",
              "  'released': 1999,\n",
              "  'setting': None},\n",
              " 3: {'ai as a threat': True,\n",
              "  'central or supporting': 'central',\n",
              "  'name': 'A.I. Artificial Intelligence',\n",
              "  'released': 2001,\n",
              "  'setting': 2200},\n",
              " 4: {'ai as a threat': True,\n",
              "  'central or supporting': 'central',\n",
              "  'name': 'The Matrix',\n",
              "  'released': 1999,\n",
              "  'setting': 2199},\n",
              " 5: {'ai as a threat': False,\n",
              "  'central or supporting': 'supporting',\n",
              "  'name': 'Her',\n",
              "  'released': 2013,\n",
              "  'setting': '2025-2050'},\n",
              " 6: {'ai as a threat': True,\n",
              "  'central or supporting': 'supporting',\n",
              "  'name': '2001: A Space Odyssey ',\n",
              "  'released': 1968,\n",
              "  'setting': 2001},\n",
              " 7: {'ai as a threat': True,\n",
              "  'central or supporting': 'central',\n",
              "  'name': 'Ghost in the Shell',\n",
              "  'released': 1995,\n",
              "  'setting': 2029},\n",
              " 8: {'ai as a threat': False,\n",
              "  'central or supporting': 'central',\n",
              "  'name': 'Cyborg 2',\n",
              "  'released': 1993,\n",
              "  'setting': 2074},\n",
              " 9: {'ai as a threat': False,\n",
              "  'central or supporting': 'supporting',\n",
              "  'name': 'The Iron Giant',\n",
              "  'released': 1999,\n",
              "  'setting': 1957},\n",
              " 10: {'ai as a threat': False,\n",
              "  'central or supporting': 'supporting',\n",
              "  'name': 'Metropolis',\n",
              "  'released': 1927,\n",
              "  'setting': None}}"
            ]
          },
          "metadata": {},
          "execution_count": 3
        }
      ]
    },
    {
      "cell_type": "markdown",
      "metadata": {
        "id": "rnC0C6olaAiA"
      },
      "source": [
        "But the way this data looks is complex and hard to read. In python, we can import other bundles of code to make things like viewing and analyzing data much easier. In particular, there's a very powerful library called **_pandas_** that will allow us to convert this dictionary of dictionaries into a data structure that's much easier to view and manipulate!"
      ]
    },
    {
      "cell_type": "code",
      "metadata": {
        "id": "VFr6vE6zaFvI"
      },
      "source": [
        "# importing our pandas library\n",
        "import pandas as pd"
      ],
      "execution_count": null,
      "outputs": []
    },
    {
      "cell_type": "markdown",
      "metadata": {
        "id": "nqGRy0tZa_nd"
      },
      "source": [
        "And now we can convert our data:"
      ]
    },
    {
      "cell_type": "code",
      "metadata": {
        "colab": {
          "base_uri": "https://localhost:8080/",
          "height": 361
        },
        "id": "fu_fLy-OaHOD",
        "outputId": "9af1fd55-83d5-4d46-f81a-c336dda4ffc9"
      },
      "source": [
        "# we're going to use pandas to convert our data into something easier to read!\n",
        "df = pd.DataFrame(movies).T\n",
        "df"
      ],
      "execution_count": null,
      "outputs": [
        {
          "output_type": "execute_result",
          "data": {
            "text/html": [
              "<div>\n",
              "<style scoped>\n",
              "    .dataframe tbody tr th:only-of-type {\n",
              "        vertical-align: middle;\n",
              "    }\n",
              "\n",
              "    .dataframe tbody tr th {\n",
              "        vertical-align: top;\n",
              "    }\n",
              "\n",
              "    .dataframe thead th {\n",
              "        text-align: right;\n",
              "    }\n",
              "</style>\n",
              "<table border=\"1\" class=\"dataframe\">\n",
              "  <thead>\n",
              "    <tr style=\"text-align: right;\">\n",
              "      <th></th>\n",
              "      <th>name</th>\n",
              "      <th>released</th>\n",
              "      <th>setting</th>\n",
              "      <th>central or supporting</th>\n",
              "      <th>ai as a threat</th>\n",
              "    </tr>\n",
              "  </thead>\n",
              "  <tbody>\n",
              "    <tr>\n",
              "      <th>1</th>\n",
              "      <td>Bicentenial Man</td>\n",
              "      <td>1999</td>\n",
              "      <td>2005</td>\n",
              "      <td>central</td>\n",
              "      <td>True</td>\n",
              "    </tr>\n",
              "    <tr>\n",
              "      <th>2</th>\n",
              "      <td>Star Wars Episode I</td>\n",
              "      <td>1999</td>\n",
              "      <td>None</td>\n",
              "      <td>supporting</td>\n",
              "      <td>False</td>\n",
              "    </tr>\n",
              "    <tr>\n",
              "      <th>3</th>\n",
              "      <td>A.I. Artificial Intelligence</td>\n",
              "      <td>2001</td>\n",
              "      <td>2200</td>\n",
              "      <td>central</td>\n",
              "      <td>True</td>\n",
              "    </tr>\n",
              "    <tr>\n",
              "      <th>4</th>\n",
              "      <td>The Matrix</td>\n",
              "      <td>1999</td>\n",
              "      <td>2199</td>\n",
              "      <td>central</td>\n",
              "      <td>True</td>\n",
              "    </tr>\n",
              "    <tr>\n",
              "      <th>5</th>\n",
              "      <td>Her</td>\n",
              "      <td>2013</td>\n",
              "      <td>2025-2050</td>\n",
              "      <td>supporting</td>\n",
              "      <td>False</td>\n",
              "    </tr>\n",
              "    <tr>\n",
              "      <th>6</th>\n",
              "      <td>2001: A Space Odyssey</td>\n",
              "      <td>1968</td>\n",
              "      <td>2001</td>\n",
              "      <td>supporting</td>\n",
              "      <td>True</td>\n",
              "    </tr>\n",
              "    <tr>\n",
              "      <th>7</th>\n",
              "      <td>Ghost in the Shell</td>\n",
              "      <td>1995</td>\n",
              "      <td>2029</td>\n",
              "      <td>central</td>\n",
              "      <td>True</td>\n",
              "    </tr>\n",
              "    <tr>\n",
              "      <th>8</th>\n",
              "      <td>Cyborg 2</td>\n",
              "      <td>1993</td>\n",
              "      <td>2074</td>\n",
              "      <td>central</td>\n",
              "      <td>False</td>\n",
              "    </tr>\n",
              "    <tr>\n",
              "      <th>9</th>\n",
              "      <td>The Iron Giant</td>\n",
              "      <td>1999</td>\n",
              "      <td>1957</td>\n",
              "      <td>supporting</td>\n",
              "      <td>False</td>\n",
              "    </tr>\n",
              "    <tr>\n",
              "      <th>10</th>\n",
              "      <td>Metropolis</td>\n",
              "      <td>1927</td>\n",
              "      <td>None</td>\n",
              "      <td>supporting</td>\n",
              "      <td>False</td>\n",
              "    </tr>\n",
              "  </tbody>\n",
              "</table>\n",
              "</div>"
            ],
            "text/plain": [
              "                            name released  ... central or supporting ai as a threat\n",
              "1                Bicentenial Man     1999  ...               central           True\n",
              "2            Star Wars Episode I     1999  ...            supporting          False\n",
              "3   A.I. Artificial Intelligence     2001  ...               central           True\n",
              "4                     The Matrix     1999  ...               central           True\n",
              "5                            Her     2013  ...            supporting          False\n",
              "6         2001: A Space Odyssey      1968  ...            supporting           True\n",
              "7             Ghost in the Shell     1995  ...               central           True\n",
              "8                       Cyborg 2     1993  ...               central          False\n",
              "9                 The Iron Giant     1999  ...            supporting          False\n",
              "10                    Metropolis     1927  ...            supporting          False\n",
              "\n",
              "[10 rows x 5 columns]"
            ]
          },
          "metadata": {},
          "execution_count": 5
        }
      ]
    },
    {
      "cell_type": "markdown",
      "metadata": {
        "id": "lYej9bz6de8F"
      },
      "source": [
        "### Artificial Intelligence in History\n",
        "\n",
        "What were the first moments in history when humans began thinking about artificial intelligence? It may be earlier than you think. "
      ]
    },
    {
      "cell_type": "markdown",
      "metadata": {
        "id": "zWBMFIIeewqC"
      },
      "source": [
        "#### 💭 3\n",
        "\n",
        "Think of the first mention of AI ever, write down a short description of it including the approximate time period or year."
      ]
    },
    {
      "cell_type": "markdown",
      "metadata": {
        "id": "SrliEjl7g-9v"
      },
      "source": [
        " #### 🐍 3\n",
        " \n",
        "In the code cell below, write down the name of your historical reference between double quotes `\" \"`, set this equal to a variable name using a `=` symbol. Ex:\n",
        "\n",
        " ```\n",
        " first_ai = \"automata renaissance\"\n",
        " ```\n",
        "\n",
        " Then, in this cell (called a markdown cell) practice creating an embedded image. Take the code I've written below to display an automaton from the renaissance with whatever your historical reference is:\n",
        "\n",
        "<p align=center>\n",
        " <img src=\"https://i.pinimg.com/originals/b9/21/63/b92163c296d66036b1b273d671661469.jpg\"></img>\n",
        "\n"
      ]
    },
    {
      "cell_type": "code",
      "metadata": {
        "id": "a1AkidGyaRS9"
      },
      "source": [
        "first_ai = \"automata renaissance\""
      ],
      "execution_count": null,
      "outputs": []
    },
    {
      "cell_type": "markdown",
      "metadata": {
        "id": "b1woXAirgyPc"
      },
      "source": [
        "#### 💬 3\n",
        "\n",
        "As you might have guessed, I'm thinking the first historical reference I've seen to AI are the automata talked about and created during the renaissance. It was as early as this time period that humans were thinking about how to \"program\" life like behavior into mechanical, human-made objects. Keep in mind that it was during this time, that thinking about the universe as a \"clockwork\" set in motion was becoming predominant (i.e. _deists_ during the enlightenment).\n",
        "\n",
        "What other findings do we have to share about early ideas of AI?"
      ]
    },
    {
      "cell_type": "markdown",
      "metadata": {
        "id": "hd3DDub4fyzM"
      },
      "source": [
        "<img src=\"https://i1.wp.com/sitn.hms.harvard.edu/wp-content/uploads/2017/08/Anyoha-SITN-Figure-2-AI-timeline-2.jpg\"></img>"
      ]
    },
    {
      "cell_type": "markdown",
      "metadata": {
        "id": "QcnxvY5Px3eS"
      },
      "source": [
        "### Artificial Intelligence in the Future\n",
        "\n",
        "Before talking about machine learning, let's switch gears and think about the future.\n",
        "\n",
        "Theres one important futurist thinker who you should all know about. His name is _Ray Kurzweil_ and he currently works on speech/AI technology at Google. \n",
        "\n",
        "<p align=center>\n",
        "<img src=\"https://upload.wikimedia.org/wikipedia/en/b/b0/Transcendent_man_poster.jpg\"></img>\n",
        "\n",
        "One of the most famous predictions that Ray Kurzweil has made is that by 2045 civilization will have encountered a technological singularity. Similar to the concept of a time horizon around a black hole, this is a point about which no predictions about the future can be made because technology and specifically AI, will progress so rapidly the future will be unrecognizeable. \n",
        "\n",
        ">  \"The Singularity will allow us to transcend these limitations of our biological bodies and brains ... There will be no distinction, post-Singularity, between human and machine\" - Kurzweil"
      ]
    },
    {
      "cell_type": "markdown",
      "metadata": {
        "id": "arRHnMph1N8c"
      },
      "source": [
        "#### 💬 3.1\n",
        "\n",
        "What do you think about Kurzweil's prediction? Is a singularity possible? If so, how soon would it be likely to happen?"
      ]
    },
    {
      "cell_type": "markdown",
      "metadata": {
        "id": "sNXTKei41YjO"
      },
      "source": [
        "Another great thinker in the area of future AI is _Yuval Noah Harari_. In his book \"21 Lessons for the 21st Century\" he describes how many aspects of technology will impact what it means to be human in the future. \n",
        "\n",
        "<p align=center>\n",
        "<img src=\"https://images-na.ssl-images-amazon.com/images/I/811iZOA9+8L.jpg\" width=300px></img>"
      ]
    },
    {
      "cell_type": "markdown",
      "metadata": {
        "id": "w5sQyFOw89Us"
      },
      "source": [
        "#### 💬 3.2\n",
        "\n",
        "One alarming notion he makes, is that democracy itself may be threatened by AI. He argues that the sole reason democracy outpaced communism in the 20th century was purely technical: it was more advantageous to enable individuals with non-centralized decision making to respond to social needs. In contrast, with AI and data processing of the future, a centralized system can be just as, if not more powerful than decentralized decision making. \n",
        "\n",
        "What do you think of Harari's warning? Do you think AI poses a threat to democracy?"
      ]
    }
  ]
}